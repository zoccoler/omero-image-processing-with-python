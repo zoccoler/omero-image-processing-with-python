{
 "cells": [
  {
   "cell_type": "code",
   "execution_count": 1,
   "metadata": {},
   "outputs": [],
   "source": [
    "import argparse\n",
    "import sys\n",
    "import tempfile\n",
    "import numpy as np\n",
    "import zarr\n",
    "import os\n",
    "import ezomero\n",
    "\n",
    "from ome_zarr.io import parse_url\n",
    "from ome_zarr.writer import write_image\n",
    "\n",
    "import locale\n",
    "import platform\n",
    "\n",
    "from omero.cli import cli_login, CLI\n",
    "from omero.gateway import BlitzGateway\n",
    "import omero.clients\n",
    "from omero.cli import cli_login\n",
    "from omero.model import ChecksumAlgorithmI\n",
    "from omero.model import NamedValue\n",
    "from omero.model.enums import ChecksumAlgorithmSHA1160\n",
    "from omero.rtypes import rstring, rbool\n",
    "from omero_version import omero_version\n",
    "from omero.callbacks import CmdCallbackI\n",
    "\n",
    "from omero.gateway import BlitzGateway\n",
    "from getpass import getpass\n",
    "import ezomero\n",
    "import matplotlib.pyplot as plt\n",
    "from skimage.io import imread"
   ]
  },
  {
   "attachments": {},
   "cell_type": "markdown",
   "metadata": {},
   "source": [
    "Functions:"
   ]
  },
  {
   "cell_type": "code",
   "execution_count": 12,
   "metadata": {},
   "outputs": [],
   "source": [
    "def create_data(shape):\n",
    "    mean_val=10\n",
    "    rng = np.random.default_rng(0)\n",
    "    return rng.poisson(mean_val, size=shape).astype(np.uint8)\n",
    "\n",
    "\n",
    "def get_files_for_fileset(fs_path):\n",
    "    filepaths = []\n",
    "    for path, subdirs, files in os.walk(fs_path):\n",
    "        for name in files:\n",
    "            print(os.path.join(path, name))\n",
    "            filepaths.append(os.path.join(path, name))\n",
    "    return filepaths\n",
    "\n",
    "\n",
    "def create_image_from_tiles(conn, numpy_image, tile_size, axes, dataset_id=None):\n",
    "    \"\"\"Create an OMERO image from a numpy array using tiles.\n",
    "\n",
    "    Parameters\n",
    "    ----------\n",
    "    conn : BlitzGateway\n",
    "        connection to OMERO\n",
    "    numpy_image : numpy.ndarray\n",
    "        the processed numpy large image\n",
    "    tile_size : int\n",
    "        the tile size\n",
    "    dataset_id : int\n",
    "        Dataset to add the Image to\n",
    "    \"\"\"    \n",
    "\n",
    "    with tempfile.TemporaryDirectory() as tmpdirname:\n",
    "        print('created temporary directory', tmpdirname)\n",
    "\n",
    "        # create a temp OME-Zarr image...\n",
    "        name = \"image.zarr\"\n",
    "        tmpdirname = os.path.join(tmpdirname, name)\n",
    "        store = parse_url(tmpdirname, mode=\"w\").store\n",
    "        root = zarr.group(store=store)\n",
    "        write_image(image=numpy_image, group=root, axes=axes, storage_options=dict(chunks=tile_size))\n",
    "\n",
    "        rsp = full_import(conn.c, tmpdirname)\n",
    "\n",
    "        if rsp:\n",
    "            links = []\n",
    "            for p in rsp.pixels:\n",
    "                print ('Imported Image ID: %d' % p.image.id.val)\n",
    "                if dataset_id is not None:\n",
    "                    link = omero.model.DatasetImageLinkI()\n",
    "                    link.parent = omero.model.DatasetI(dataset_id, False)\n",
    "                    link.child = omero.model.ImageI(p.image.id.val, False)\n",
    "                    links.append(link)\n",
    "            conn.getUpdateService().saveArray(links, conn.SERVICE_OPTS)\n",
    "\n",
    "\n",
    "def create_fileset(files):\n",
    "    \"\"\"Create a new Fileset from local files.\"\"\"\n",
    "    fileset = omero.model.FilesetI()\n",
    "    for f in files:\n",
    "        entry = omero.model.FilesetEntryI()\n",
    "        entry.setClientPath(rstring(f))\n",
    "        fileset.addFilesetEntry(entry)\n",
    "\n",
    "    # Fill version info\n",
    "    system, node, release, version, machine, processor = platform.uname()\n",
    "\n",
    "    client_version_info = [\n",
    "        NamedValue('omero.version', omero_version),\n",
    "        NamedValue('os.name', system),\n",
    "        NamedValue('os.version', release),\n",
    "        NamedValue('os.architecture', machine)\n",
    "    ]\n",
    "    try:\n",
    "        client_version_info.append(\n",
    "            NamedValue('locale', locale.getdefaultlocale()[0]))\n",
    "    except:\n",
    "        pass\n",
    "\n",
    "    upload = omero.model.UploadJobI()\n",
    "    upload.setVersionInfo(client_version_info)\n",
    "    fileset.linkJob(upload)\n",
    "    return fileset\n",
    "\n",
    "\n",
    "def create_settings():\n",
    "    \"\"\"Create ImportSettings and set some values.\"\"\"\n",
    "    settings = omero.grid.ImportSettings()\n",
    "    settings.doThumbnails = rbool(True)\n",
    "    settings.noStatsInfo = rbool(False)\n",
    "    settings.userSpecifiedTarget = None\n",
    "    settings.userSpecifiedName = None\n",
    "    settings.userSpecifiedDescription = None\n",
    "    settings.userSpecifiedAnnotationList = None\n",
    "    settings.userSpecifiedPixels = None\n",
    "    settings.checksumAlgorithm = ChecksumAlgorithmI()\n",
    "    s = rstring(ChecksumAlgorithmSHA1160)\n",
    "    settings.checksumAlgorithm.value = s\n",
    "    return settings\n",
    "\n",
    "\n",
    "def upload_files(proc, files, client):\n",
    "    \"\"\"Upload files to OMERO from local filesystem.\"\"\"\n",
    "    ret_val = []\n",
    "    for i, fobj in enumerate(files):\n",
    "        rfs = proc.getUploader(i)\n",
    "        try:\n",
    "            with open(fobj, 'rb') as f:\n",
    "                print ('Uploading: %s' % fobj)\n",
    "                offset = 0\n",
    "                block = []\n",
    "                rfs.write(block, offset, len(block))  # Touch\n",
    "                while True:\n",
    "                    block = f.read(1000 * 1000)\n",
    "                    if not block:\n",
    "                        break\n",
    "                    rfs.write(block, offset, len(block))\n",
    "                    offset += len(block)\n",
    "                ret_val.append(client.sha1(fobj))\n",
    "        finally:\n",
    "            rfs.close()\n",
    "    return ret_val\n",
    "\n",
    "\n",
    "def assert_import(client, proc, files, wait):\n",
    "    \"\"\"Wait and check that we imported an image.\"\"\"\n",
    "    hashes = upload_files(proc, files, client)\n",
    "    handle = proc.verifyUpload(hashes)\n",
    "    cb = CmdCallbackI(client, handle)\n",
    "\n",
    "    # https://github.com/openmicroscopy/openmicroscopy/blob/v5.4.9/components/blitz/src/ome/formats/importer/ImportLibrary.java#L631\n",
    "    if wait == 0:\n",
    "        cb.close(False)\n",
    "        return None\n",
    "    if wait < 0:\n",
    "        while not cb.block(2000):\n",
    "            sys.stdout.write('.')\n",
    "            sys.stdout.flush()\n",
    "        sys.stdout.write('\\n')\n",
    "    else:\n",
    "        cb.loop(wait, 1000)\n",
    "    rsp = cb.getResponse()\n",
    "    if isinstance(rsp, omero.cmd.ERR):\n",
    "        raise Exception(rsp)\n",
    "    assert len(rsp.pixels) > 0\n",
    "    return rsp\n",
    "\n",
    "\n",
    "def full_import(client, fs_path, wait=-1):\n",
    "    \"\"\"Re-usable method for a basic import.\"\"\"\n",
    "    mrepo = client.getManagedRepository()\n",
    "    files = get_files_for_fileset(fs_path)\n",
    "    print('\\n fs_path: ', fs_path,'\\n Files: ', files, '\\n')\n",
    "    assert files, 'No files found: %s' % fs_path\n",
    "\n",
    "    fileset = create_fileset(files)\n",
    "    settings = create_settings()\n",
    "\n",
    "    proc = mrepo.importFileset(fileset, settings)\n",
    "    try:\n",
    "        return assert_import(client, proc, files, wait)\n",
    "    finally:\n",
    "        proc.close()"
   ]
  },
  {
   "cell_type": "code",
   "execution_count": 2,
   "metadata": {},
   "outputs": [
    {
     "name": "stdout",
     "output_type": "stream",
     "text": [
      "created temporary directory C:\\Users\\mazo260d\\AppData\\Local\\Temp\\tmpa5sppqoq\n",
      "C:\\Users\\mazo260d\\AppData\\Local\\Temp\\tmpa5sppqoq\\image.zarr\n"
     ]
    }
   ],
   "source": [
    "with tempfile.TemporaryDirectory() as tmpdirname:\n",
    "    print('created temporary directory', tmpdirname)\n",
    "\n",
    "    # create a temp OME-Zarr image...\n",
    "    name = \"image.zarr\"\n",
    "    tmpdirname = os.path.join(tmpdirname, name)\n",
    "    print(tmpdirname)"
   ]
  },
  {
   "attachments": {},
   "cell_type": "markdown",
   "metadata": {},
   "source": [
    "# Open local large image"
   ]
  },
  {
   "cell_type": "code",
   "execution_count": 14,
   "metadata": {},
   "outputs": [],
   "source": [
    "# Folder containing the input data\n",
    "INPUT_FOLDER = 'data/inputs/'\n",
    "INPUT_FOLDER = r\"D:\\Datasets\\Ellen\\2022_07_22_0001-Cy7_01_C2.tif\""
   ]
  },
  {
   "cell_type": "code",
   "execution_count": 23,
   "metadata": {},
   "outputs": [],
   "source": [
    "image = imread(INPUT_FOLDER)"
   ]
  },
  {
   "cell_type": "code",
   "execution_count": 24,
   "metadata": {},
   "outputs": [],
   "source": [
    "image = image[np.newaxis, np.newaxis,  np.newaxis, :, :]\n",
    "# image = np.repeat(image, 3, axis=3)\n",
    "image_shape = image.shape"
   ]
  },
  {
   "cell_type": "code",
   "execution_count": 25,
   "metadata": {},
   "outputs": [
    {
     "name": "stdout",
     "output_type": "stream",
     "text": [
      "(1, 1, 1, 18549, 22194)\n"
     ]
    }
   ],
   "source": [
    "print(image_shape)"
   ]
  },
  {
   "cell_type": "code",
   "execution_count": 28,
   "metadata": {},
   "outputs": [],
   "source": [
    "tile_shape = (1, 1, 1, 256, 256)\n",
    "axes = \"ctzxy\""
   ]
  },
  {
   "cell_type": "code",
   "execution_count": 4,
   "metadata": {},
   "outputs": [],
   "source": [
    "HOST = 'omero-int.biotec.tu-dresden.de'"
   ]
  },
  {
   "cell_type": "code",
   "execution_count": 5,
   "metadata": {},
   "outputs": [],
   "source": [
    "conn = ezomero.connect(host=HOST, user=input(\"Username: \"),\n",
    "               password=getpass(\"OMERO Password: \"), port=4064)"
   ]
  },
  {
   "cell_type": "code",
   "execution_count": 6,
   "metadata": {},
   "outputs": [],
   "source": [
    "dataset_id = 179"
   ]
  },
  {
   "attachments": {},
   "cell_type": "markdown",
   "metadata": {},
   "source": [
    "Synthetic image"
   ]
  },
  {
   "cell_type": "code",
   "execution_count": 9,
   "metadata": {},
   "outputs": [],
   "source": [
    "shape = (2, 1024, 1024)\n",
    "image = create_data(shape)\n",
    "tile_shape = (1, 256, 256)\n",
    "axes = \"cyx\""
   ]
  },
  {
   "cell_type": "code",
   "execution_count": 13,
   "metadata": {},
   "outputs": [
    {
     "name": "stdout",
     "output_type": "stream",
     "text": [
      "created temporary directory C:\\Users\\mazo260d\\AppData\\Local\\Temp\\tmp7vzaxfyq\n",
      "C:\\Users\\mazo260d\\AppData\\Local\\Temp\\tmp7vzaxfyq\\image.zarr\\.zattrs\n",
      "C:\\Users\\mazo260d\\AppData\\Local\\Temp\\tmp7vzaxfyq\\image.zarr\\.zgroup\n",
      "C:\\Users\\mazo260d\\AppData\\Local\\Temp\\tmp7vzaxfyq\\image.zarr\\0\\.zarray\n",
      "C:\\Users\\mazo260d\\AppData\\Local\\Temp\\tmp7vzaxfyq\\image.zarr\\0\\0\\0\\0\n",
      "C:\\Users\\mazo260d\\AppData\\Local\\Temp\\tmp7vzaxfyq\\image.zarr\\0\\0\\0\\1\n",
      "C:\\Users\\mazo260d\\AppData\\Local\\Temp\\tmp7vzaxfyq\\image.zarr\\0\\0\\0\\2\n",
      "C:\\Users\\mazo260d\\AppData\\Local\\Temp\\tmp7vzaxfyq\\image.zarr\\0\\0\\0\\3\n",
      "C:\\Users\\mazo260d\\AppData\\Local\\Temp\\tmp7vzaxfyq\\image.zarr\\0\\0\\1\\0\n",
      "C:\\Users\\mazo260d\\AppData\\Local\\Temp\\tmp7vzaxfyq\\image.zarr\\0\\0\\1\\1\n",
      "C:\\Users\\mazo260d\\AppData\\Local\\Temp\\tmp7vzaxfyq\\image.zarr\\0\\0\\1\\2\n",
      "C:\\Users\\mazo260d\\AppData\\Local\\Temp\\tmp7vzaxfyq\\image.zarr\\0\\0\\1\\3\n",
      "C:\\Users\\mazo260d\\AppData\\Local\\Temp\\tmp7vzaxfyq\\image.zarr\\0\\0\\2\\0\n",
      "C:\\Users\\mazo260d\\AppData\\Local\\Temp\\tmp7vzaxfyq\\image.zarr\\0\\0\\2\\1\n",
      "C:\\Users\\mazo260d\\AppData\\Local\\Temp\\tmp7vzaxfyq\\image.zarr\\0\\0\\2\\2\n",
      "C:\\Users\\mazo260d\\AppData\\Local\\Temp\\tmp7vzaxfyq\\image.zarr\\0\\0\\2\\3\n",
      "C:\\Users\\mazo260d\\AppData\\Local\\Temp\\tmp7vzaxfyq\\image.zarr\\0\\0\\3\\0\n",
      "C:\\Users\\mazo260d\\AppData\\Local\\Temp\\tmp7vzaxfyq\\image.zarr\\0\\0\\3\\1\n",
      "C:\\Users\\mazo260d\\AppData\\Local\\Temp\\tmp7vzaxfyq\\image.zarr\\0\\0\\3\\2\n",
      "C:\\Users\\mazo260d\\AppData\\Local\\Temp\\tmp7vzaxfyq\\image.zarr\\0\\0\\3\\3\n",
      "C:\\Users\\mazo260d\\AppData\\Local\\Temp\\tmp7vzaxfyq\\image.zarr\\0\\1\\0\\0\n",
      "C:\\Users\\mazo260d\\AppData\\Local\\Temp\\tmp7vzaxfyq\\image.zarr\\0\\1\\0\\1\n",
      "C:\\Users\\mazo260d\\AppData\\Local\\Temp\\tmp7vzaxfyq\\image.zarr\\0\\1\\0\\2\n",
      "C:\\Users\\mazo260d\\AppData\\Local\\Temp\\tmp7vzaxfyq\\image.zarr\\0\\1\\0\\3\n",
      "C:\\Users\\mazo260d\\AppData\\Local\\Temp\\tmp7vzaxfyq\\image.zarr\\0\\1\\1\\0\n",
      "C:\\Users\\mazo260d\\AppData\\Local\\Temp\\tmp7vzaxfyq\\image.zarr\\0\\1\\1\\1\n",
      "C:\\Users\\mazo260d\\AppData\\Local\\Temp\\tmp7vzaxfyq\\image.zarr\\0\\1\\1\\2\n",
      "C:\\Users\\mazo260d\\AppData\\Local\\Temp\\tmp7vzaxfyq\\image.zarr\\0\\1\\1\\3\n",
      "C:\\Users\\mazo260d\\AppData\\Local\\Temp\\tmp7vzaxfyq\\image.zarr\\0\\1\\2\\0\n",
      "C:\\Users\\mazo260d\\AppData\\Local\\Temp\\tmp7vzaxfyq\\image.zarr\\0\\1\\2\\1\n",
      "C:\\Users\\mazo260d\\AppData\\Local\\Temp\\tmp7vzaxfyq\\image.zarr\\0\\1\\2\\2\n",
      "C:\\Users\\mazo260d\\AppData\\Local\\Temp\\tmp7vzaxfyq\\image.zarr\\0\\1\\2\\3\n",
      "C:\\Users\\mazo260d\\AppData\\Local\\Temp\\tmp7vzaxfyq\\image.zarr\\0\\1\\3\\0\n",
      "C:\\Users\\mazo260d\\AppData\\Local\\Temp\\tmp7vzaxfyq\\image.zarr\\0\\1\\3\\1\n",
      "C:\\Users\\mazo260d\\AppData\\Local\\Temp\\tmp7vzaxfyq\\image.zarr\\0\\1\\3\\2\n",
      "C:\\Users\\mazo260d\\AppData\\Local\\Temp\\tmp7vzaxfyq\\image.zarr\\0\\1\\3\\3\n",
      "C:\\Users\\mazo260d\\AppData\\Local\\Temp\\tmp7vzaxfyq\\image.zarr\\1\\.zarray\n",
      "C:\\Users\\mazo260d\\AppData\\Local\\Temp\\tmp7vzaxfyq\\image.zarr\\1\\0\\0\\0\n",
      "C:\\Users\\mazo260d\\AppData\\Local\\Temp\\tmp7vzaxfyq\\image.zarr\\1\\0\\0\\1\n",
      "C:\\Users\\mazo260d\\AppData\\Local\\Temp\\tmp7vzaxfyq\\image.zarr\\1\\0\\1\\0\n",
      "C:\\Users\\mazo260d\\AppData\\Local\\Temp\\tmp7vzaxfyq\\image.zarr\\1\\0\\1\\1\n",
      "C:\\Users\\mazo260d\\AppData\\Local\\Temp\\tmp7vzaxfyq\\image.zarr\\1\\1\\0\\0\n",
      "C:\\Users\\mazo260d\\AppData\\Local\\Temp\\tmp7vzaxfyq\\image.zarr\\1\\1\\0\\1\n",
      "C:\\Users\\mazo260d\\AppData\\Local\\Temp\\tmp7vzaxfyq\\image.zarr\\1\\1\\1\\0\n",
      "C:\\Users\\mazo260d\\AppData\\Local\\Temp\\tmp7vzaxfyq\\image.zarr\\1\\1\\1\\1\n",
      "C:\\Users\\mazo260d\\AppData\\Local\\Temp\\tmp7vzaxfyq\\image.zarr\\2\\.zarray\n",
      "C:\\Users\\mazo260d\\AppData\\Local\\Temp\\tmp7vzaxfyq\\image.zarr\\2\\0\\0\\0\n",
      "C:\\Users\\mazo260d\\AppData\\Local\\Temp\\tmp7vzaxfyq\\image.zarr\\2\\1\\0\\0\n",
      "C:\\Users\\mazo260d\\AppData\\Local\\Temp\\tmp7vzaxfyq\\image.zarr\\3\\.zarray\n",
      "C:\\Users\\mazo260d\\AppData\\Local\\Temp\\tmp7vzaxfyq\\image.zarr\\3\\0\\0\\0\n",
      "C:\\Users\\mazo260d\\AppData\\Local\\Temp\\tmp7vzaxfyq\\image.zarr\\3\\1\\0\\0\n",
      "C:\\Users\\mazo260d\\AppData\\Local\\Temp\\tmp7vzaxfyq\\image.zarr\\4\\.zarray\n",
      "C:\\Users\\mazo260d\\AppData\\Local\\Temp\\tmp7vzaxfyq\\image.zarr\\4\\0\\0\\0\n",
      "C:\\Users\\mazo260d\\AppData\\Local\\Temp\\tmp7vzaxfyq\\image.zarr\\4\\1\\0\\0\n",
      "\n",
      " fs_path:  C:\\Users\\mazo260d\\AppData\\Local\\Temp\\tmp7vzaxfyq\\image.zarr \n",
      " Files:  ['C:\\\\Users\\\\mazo260d\\\\AppData\\\\Local\\\\Temp\\\\tmp7vzaxfyq\\\\image.zarr\\\\.zattrs', 'C:\\\\Users\\\\mazo260d\\\\AppData\\\\Local\\\\Temp\\\\tmp7vzaxfyq\\\\image.zarr\\\\.zgroup', 'C:\\\\Users\\\\mazo260d\\\\AppData\\\\Local\\\\Temp\\\\tmp7vzaxfyq\\\\image.zarr\\\\0\\\\.zarray', 'C:\\\\Users\\\\mazo260d\\\\AppData\\\\Local\\\\Temp\\\\tmp7vzaxfyq\\\\image.zarr\\\\0\\\\0\\\\0\\\\0', 'C:\\\\Users\\\\mazo260d\\\\AppData\\\\Local\\\\Temp\\\\tmp7vzaxfyq\\\\image.zarr\\\\0\\\\0\\\\0\\\\1', 'C:\\\\Users\\\\mazo260d\\\\AppData\\\\Local\\\\Temp\\\\tmp7vzaxfyq\\\\image.zarr\\\\0\\\\0\\\\0\\\\2', 'C:\\\\Users\\\\mazo260d\\\\AppData\\\\Local\\\\Temp\\\\tmp7vzaxfyq\\\\image.zarr\\\\0\\\\0\\\\0\\\\3', 'C:\\\\Users\\\\mazo260d\\\\AppData\\\\Local\\\\Temp\\\\tmp7vzaxfyq\\\\image.zarr\\\\0\\\\0\\\\1\\\\0', 'C:\\\\Users\\\\mazo260d\\\\AppData\\\\Local\\\\Temp\\\\tmp7vzaxfyq\\\\image.zarr\\\\0\\\\0\\\\1\\\\1', 'C:\\\\Users\\\\mazo260d\\\\AppData\\\\Local\\\\Temp\\\\tmp7vzaxfyq\\\\image.zarr\\\\0\\\\0\\\\1\\\\2', 'C:\\\\Users\\\\mazo260d\\\\AppData\\\\Local\\\\Temp\\\\tmp7vzaxfyq\\\\image.zarr\\\\0\\\\0\\\\1\\\\3', 'C:\\\\Users\\\\mazo260d\\\\AppData\\\\Local\\\\Temp\\\\tmp7vzaxfyq\\\\image.zarr\\\\0\\\\0\\\\2\\\\0', 'C:\\\\Users\\\\mazo260d\\\\AppData\\\\Local\\\\Temp\\\\tmp7vzaxfyq\\\\image.zarr\\\\0\\\\0\\\\2\\\\1', 'C:\\\\Users\\\\mazo260d\\\\AppData\\\\Local\\\\Temp\\\\tmp7vzaxfyq\\\\image.zarr\\\\0\\\\0\\\\2\\\\2', 'C:\\\\Users\\\\mazo260d\\\\AppData\\\\Local\\\\Temp\\\\tmp7vzaxfyq\\\\image.zarr\\\\0\\\\0\\\\2\\\\3', 'C:\\\\Users\\\\mazo260d\\\\AppData\\\\Local\\\\Temp\\\\tmp7vzaxfyq\\\\image.zarr\\\\0\\\\0\\\\3\\\\0', 'C:\\\\Users\\\\mazo260d\\\\AppData\\\\Local\\\\Temp\\\\tmp7vzaxfyq\\\\image.zarr\\\\0\\\\0\\\\3\\\\1', 'C:\\\\Users\\\\mazo260d\\\\AppData\\\\Local\\\\Temp\\\\tmp7vzaxfyq\\\\image.zarr\\\\0\\\\0\\\\3\\\\2', 'C:\\\\Users\\\\mazo260d\\\\AppData\\\\Local\\\\Temp\\\\tmp7vzaxfyq\\\\image.zarr\\\\0\\\\0\\\\3\\\\3', 'C:\\\\Users\\\\mazo260d\\\\AppData\\\\Local\\\\Temp\\\\tmp7vzaxfyq\\\\image.zarr\\\\0\\\\1\\\\0\\\\0', 'C:\\\\Users\\\\mazo260d\\\\AppData\\\\Local\\\\Temp\\\\tmp7vzaxfyq\\\\image.zarr\\\\0\\\\1\\\\0\\\\1', 'C:\\\\Users\\\\mazo260d\\\\AppData\\\\Local\\\\Temp\\\\tmp7vzaxfyq\\\\image.zarr\\\\0\\\\1\\\\0\\\\2', 'C:\\\\Users\\\\mazo260d\\\\AppData\\\\Local\\\\Temp\\\\tmp7vzaxfyq\\\\image.zarr\\\\0\\\\1\\\\0\\\\3', 'C:\\\\Users\\\\mazo260d\\\\AppData\\\\Local\\\\Temp\\\\tmp7vzaxfyq\\\\image.zarr\\\\0\\\\1\\\\1\\\\0', 'C:\\\\Users\\\\mazo260d\\\\AppData\\\\Local\\\\Temp\\\\tmp7vzaxfyq\\\\image.zarr\\\\0\\\\1\\\\1\\\\1', 'C:\\\\Users\\\\mazo260d\\\\AppData\\\\Local\\\\Temp\\\\tmp7vzaxfyq\\\\image.zarr\\\\0\\\\1\\\\1\\\\2', 'C:\\\\Users\\\\mazo260d\\\\AppData\\\\Local\\\\Temp\\\\tmp7vzaxfyq\\\\image.zarr\\\\0\\\\1\\\\1\\\\3', 'C:\\\\Users\\\\mazo260d\\\\AppData\\\\Local\\\\Temp\\\\tmp7vzaxfyq\\\\image.zarr\\\\0\\\\1\\\\2\\\\0', 'C:\\\\Users\\\\mazo260d\\\\AppData\\\\Local\\\\Temp\\\\tmp7vzaxfyq\\\\image.zarr\\\\0\\\\1\\\\2\\\\1', 'C:\\\\Users\\\\mazo260d\\\\AppData\\\\Local\\\\Temp\\\\tmp7vzaxfyq\\\\image.zarr\\\\0\\\\1\\\\2\\\\2', 'C:\\\\Users\\\\mazo260d\\\\AppData\\\\Local\\\\Temp\\\\tmp7vzaxfyq\\\\image.zarr\\\\0\\\\1\\\\2\\\\3', 'C:\\\\Users\\\\mazo260d\\\\AppData\\\\Local\\\\Temp\\\\tmp7vzaxfyq\\\\image.zarr\\\\0\\\\1\\\\3\\\\0', 'C:\\\\Users\\\\mazo260d\\\\AppData\\\\Local\\\\Temp\\\\tmp7vzaxfyq\\\\image.zarr\\\\0\\\\1\\\\3\\\\1', 'C:\\\\Users\\\\mazo260d\\\\AppData\\\\Local\\\\Temp\\\\tmp7vzaxfyq\\\\image.zarr\\\\0\\\\1\\\\3\\\\2', 'C:\\\\Users\\\\mazo260d\\\\AppData\\\\Local\\\\Temp\\\\tmp7vzaxfyq\\\\image.zarr\\\\0\\\\1\\\\3\\\\3', 'C:\\\\Users\\\\mazo260d\\\\AppData\\\\Local\\\\Temp\\\\tmp7vzaxfyq\\\\image.zarr\\\\1\\\\.zarray', 'C:\\\\Users\\\\mazo260d\\\\AppData\\\\Local\\\\Temp\\\\tmp7vzaxfyq\\\\image.zarr\\\\1\\\\0\\\\0\\\\0', 'C:\\\\Users\\\\mazo260d\\\\AppData\\\\Local\\\\Temp\\\\tmp7vzaxfyq\\\\image.zarr\\\\1\\\\0\\\\0\\\\1', 'C:\\\\Users\\\\mazo260d\\\\AppData\\\\Local\\\\Temp\\\\tmp7vzaxfyq\\\\image.zarr\\\\1\\\\0\\\\1\\\\0', 'C:\\\\Users\\\\mazo260d\\\\AppData\\\\Local\\\\Temp\\\\tmp7vzaxfyq\\\\image.zarr\\\\1\\\\0\\\\1\\\\1', 'C:\\\\Users\\\\mazo260d\\\\AppData\\\\Local\\\\Temp\\\\tmp7vzaxfyq\\\\image.zarr\\\\1\\\\1\\\\0\\\\0', 'C:\\\\Users\\\\mazo260d\\\\AppData\\\\Local\\\\Temp\\\\tmp7vzaxfyq\\\\image.zarr\\\\1\\\\1\\\\0\\\\1', 'C:\\\\Users\\\\mazo260d\\\\AppData\\\\Local\\\\Temp\\\\tmp7vzaxfyq\\\\image.zarr\\\\1\\\\1\\\\1\\\\0', 'C:\\\\Users\\\\mazo260d\\\\AppData\\\\Local\\\\Temp\\\\tmp7vzaxfyq\\\\image.zarr\\\\1\\\\1\\\\1\\\\1', 'C:\\\\Users\\\\mazo260d\\\\AppData\\\\Local\\\\Temp\\\\tmp7vzaxfyq\\\\image.zarr\\\\2\\\\.zarray', 'C:\\\\Users\\\\mazo260d\\\\AppData\\\\Local\\\\Temp\\\\tmp7vzaxfyq\\\\image.zarr\\\\2\\\\0\\\\0\\\\0', 'C:\\\\Users\\\\mazo260d\\\\AppData\\\\Local\\\\Temp\\\\tmp7vzaxfyq\\\\image.zarr\\\\2\\\\1\\\\0\\\\0', 'C:\\\\Users\\\\mazo260d\\\\AppData\\\\Local\\\\Temp\\\\tmp7vzaxfyq\\\\image.zarr\\\\3\\\\.zarray', 'C:\\\\Users\\\\mazo260d\\\\AppData\\\\Local\\\\Temp\\\\tmp7vzaxfyq\\\\image.zarr\\\\3\\\\0\\\\0\\\\0', 'C:\\\\Users\\\\mazo260d\\\\AppData\\\\Local\\\\Temp\\\\tmp7vzaxfyq\\\\image.zarr\\\\3\\\\1\\\\0\\\\0', 'C:\\\\Users\\\\mazo260d\\\\AppData\\\\Local\\\\Temp\\\\tmp7vzaxfyq\\\\image.zarr\\\\4\\\\.zarray', 'C:\\\\Users\\\\mazo260d\\\\AppData\\\\Local\\\\Temp\\\\tmp7vzaxfyq\\\\image.zarr\\\\4\\\\0\\\\0\\\\0', 'C:\\\\Users\\\\mazo260d\\\\AppData\\\\Local\\\\Temp\\\\tmp7vzaxfyq\\\\image.zarr\\\\4\\\\1\\\\0\\\\0'] \n",
      "\n",
      "Uploading: C:\\Users\\mazo260d\\AppData\\Local\\Temp\\tmp7vzaxfyq\\image.zarr\\.zattrs\n",
      "Uploading: C:\\Users\\mazo260d\\AppData\\Local\\Temp\\tmp7vzaxfyq\\image.zarr\\.zgroup\n",
      "Uploading: C:\\Users\\mazo260d\\AppData\\Local\\Temp\\tmp7vzaxfyq\\image.zarr\\0\\.zarray\n",
      "Uploading: C:\\Users\\mazo260d\\AppData\\Local\\Temp\\tmp7vzaxfyq\\image.zarr\\0\\0\\0\\0\n",
      "Uploading: C:\\Users\\mazo260d\\AppData\\Local\\Temp\\tmp7vzaxfyq\\image.zarr\\0\\0\\0\\1\n",
      "Uploading: C:\\Users\\mazo260d\\AppData\\Local\\Temp\\tmp7vzaxfyq\\image.zarr\\0\\0\\0\\2\n",
      "Uploading: C:\\Users\\mazo260d\\AppData\\Local\\Temp\\tmp7vzaxfyq\\image.zarr\\0\\0\\0\\3\n",
      "Uploading: C:\\Users\\mazo260d\\AppData\\Local\\Temp\\tmp7vzaxfyq\\image.zarr\\0\\0\\1\\0\n",
      "Uploading: C:\\Users\\mazo260d\\AppData\\Local\\Temp\\tmp7vzaxfyq\\image.zarr\\0\\0\\1\\1\n",
      "Uploading: C:\\Users\\mazo260d\\AppData\\Local\\Temp\\tmp7vzaxfyq\\image.zarr\\0\\0\\1\\2\n",
      "Uploading: C:\\Users\\mazo260d\\AppData\\Local\\Temp\\tmp7vzaxfyq\\image.zarr\\0\\0\\1\\3\n",
      "Uploading: C:\\Users\\mazo260d\\AppData\\Local\\Temp\\tmp7vzaxfyq\\image.zarr\\0\\0\\2\\0\n",
      "Uploading: C:\\Users\\mazo260d\\AppData\\Local\\Temp\\tmp7vzaxfyq\\image.zarr\\0\\0\\2\\1\n",
      "Uploading: C:\\Users\\mazo260d\\AppData\\Local\\Temp\\tmp7vzaxfyq\\image.zarr\\0\\0\\2\\2\n",
      "Uploading: C:\\Users\\mazo260d\\AppData\\Local\\Temp\\tmp7vzaxfyq\\image.zarr\\0\\0\\2\\3\n",
      "Uploading: C:\\Users\\mazo260d\\AppData\\Local\\Temp\\tmp7vzaxfyq\\image.zarr\\0\\0\\3\\0\n",
      "Uploading: C:\\Users\\mazo260d\\AppData\\Local\\Temp\\tmp7vzaxfyq\\image.zarr\\0\\0\\3\\1\n",
      "Uploading: C:\\Users\\mazo260d\\AppData\\Local\\Temp\\tmp7vzaxfyq\\image.zarr\\0\\0\\3\\2\n",
      "Uploading: C:\\Users\\mazo260d\\AppData\\Local\\Temp\\tmp7vzaxfyq\\image.zarr\\0\\0\\3\\3\n",
      "Uploading: C:\\Users\\mazo260d\\AppData\\Local\\Temp\\tmp7vzaxfyq\\image.zarr\\0\\1\\0\\0\n",
      "Uploading: C:\\Users\\mazo260d\\AppData\\Local\\Temp\\tmp7vzaxfyq\\image.zarr\\0\\1\\0\\1\n",
      "Uploading: C:\\Users\\mazo260d\\AppData\\Local\\Temp\\tmp7vzaxfyq\\image.zarr\\0\\1\\0\\2\n",
      "Uploading: C:\\Users\\mazo260d\\AppData\\Local\\Temp\\tmp7vzaxfyq\\image.zarr\\0\\1\\0\\3\n",
      "Uploading: C:\\Users\\mazo260d\\AppData\\Local\\Temp\\tmp7vzaxfyq\\image.zarr\\0\\1\\1\\0\n",
      "Uploading: C:\\Users\\mazo260d\\AppData\\Local\\Temp\\tmp7vzaxfyq\\image.zarr\\0\\1\\1\\1\n",
      "Uploading: C:\\Users\\mazo260d\\AppData\\Local\\Temp\\tmp7vzaxfyq\\image.zarr\\0\\1\\1\\2\n",
      "Uploading: C:\\Users\\mazo260d\\AppData\\Local\\Temp\\tmp7vzaxfyq\\image.zarr\\0\\1\\1\\3\n",
      "Uploading: C:\\Users\\mazo260d\\AppData\\Local\\Temp\\tmp7vzaxfyq\\image.zarr\\0\\1\\2\\0\n",
      "Uploading: C:\\Users\\mazo260d\\AppData\\Local\\Temp\\tmp7vzaxfyq\\image.zarr\\0\\1\\2\\1\n",
      "Uploading: C:\\Users\\mazo260d\\AppData\\Local\\Temp\\tmp7vzaxfyq\\image.zarr\\0\\1\\2\\2\n",
      "Uploading: C:\\Users\\mazo260d\\AppData\\Local\\Temp\\tmp7vzaxfyq\\image.zarr\\0\\1\\2\\3\n",
      "Uploading: C:\\Users\\mazo260d\\AppData\\Local\\Temp\\tmp7vzaxfyq\\image.zarr\\0\\1\\3\\0\n",
      "Uploading: C:\\Users\\mazo260d\\AppData\\Local\\Temp\\tmp7vzaxfyq\\image.zarr\\0\\1\\3\\1\n",
      "Uploading: C:\\Users\\mazo260d\\AppData\\Local\\Temp\\tmp7vzaxfyq\\image.zarr\\0\\1\\3\\2\n",
      "Uploading: C:\\Users\\mazo260d\\AppData\\Local\\Temp\\tmp7vzaxfyq\\image.zarr\\0\\1\\3\\3\n",
      "Uploading: C:\\Users\\mazo260d\\AppData\\Local\\Temp\\tmp7vzaxfyq\\image.zarr\\1\\.zarray\n",
      "Uploading: C:\\Users\\mazo260d\\AppData\\Local\\Temp\\tmp7vzaxfyq\\image.zarr\\1\\0\\0\\0\n",
      "Uploading: C:\\Users\\mazo260d\\AppData\\Local\\Temp\\tmp7vzaxfyq\\image.zarr\\1\\0\\0\\1\n",
      "Uploading: C:\\Users\\mazo260d\\AppData\\Local\\Temp\\tmp7vzaxfyq\\image.zarr\\1\\0\\1\\0\n",
      "Uploading: C:\\Users\\mazo260d\\AppData\\Local\\Temp\\tmp7vzaxfyq\\image.zarr\\1\\0\\1\\1\n",
      "Uploading: C:\\Users\\mazo260d\\AppData\\Local\\Temp\\tmp7vzaxfyq\\image.zarr\\1\\1\\0\\0\n",
      "Uploading: C:\\Users\\mazo260d\\AppData\\Local\\Temp\\tmp7vzaxfyq\\image.zarr\\1\\1\\0\\1\n",
      "Uploading: C:\\Users\\mazo260d\\AppData\\Local\\Temp\\tmp7vzaxfyq\\image.zarr\\1\\1\\1\\0\n",
      "Uploading: C:\\Users\\mazo260d\\AppData\\Local\\Temp\\tmp7vzaxfyq\\image.zarr\\1\\1\\1\\1\n",
      "Uploading: C:\\Users\\mazo260d\\AppData\\Local\\Temp\\tmp7vzaxfyq\\image.zarr\\2\\.zarray\n",
      "Uploading: C:\\Users\\mazo260d\\AppData\\Local\\Temp\\tmp7vzaxfyq\\image.zarr\\2\\0\\0\\0\n",
      "Uploading: C:\\Users\\mazo260d\\AppData\\Local\\Temp\\tmp7vzaxfyq\\image.zarr\\2\\1\\0\\0\n",
      "Uploading: C:\\Users\\mazo260d\\AppData\\Local\\Temp\\tmp7vzaxfyq\\image.zarr\\3\\.zarray\n",
      "Uploading: C:\\Users\\mazo260d\\AppData\\Local\\Temp\\tmp7vzaxfyq\\image.zarr\\3\\0\\0\\0\n",
      "Uploading: C:\\Users\\mazo260d\\AppData\\Local\\Temp\\tmp7vzaxfyq\\image.zarr\\3\\1\\0\\0\n",
      "Uploading: C:\\Users\\mazo260d\\AppData\\Local\\Temp\\tmp7vzaxfyq\\image.zarr\\4\\.zarray\n",
      "Uploading: C:\\Users\\mazo260d\\AppData\\Local\\Temp\\tmp7vzaxfyq\\image.zarr\\4\\0\\0\\0\n",
      "Uploading: C:\\Users\\mazo260d\\AppData\\Local\\Temp\\tmp7vzaxfyq\\image.zarr\\4\\1\\0\\0\n",
      "\n"
     ]
    },
    {
     "ename": "Exception",
     "evalue": "object #0 (::omero::cmd::ERR)\n{\n    category = ::omero::grid::ImportRequest\n    name = error-on-init\n    parameters = \n    {\n        key = stacktrace\n        value = loci.formats.UnknownFormatException: Unknown file format: /omerobin/ManagedRepository/mazo260d_104/2023-06/12/09-10-44.924/C;!Users!mazo260d!AppData!Local!Temp!tmp7vzaxfyq!image.zarr!.zattrs\n\tat loci.formats.ImageReader.getReader(ImageReader.java:202)\n\tat loci.formats.ImageReader.setId(ImageReader.java:844)\n\tat ome.formats.importer.OMEROWrapper$4.setId(OMEROWrapper.java:167)\n\tat loci.formats.ReaderWrapper.setId(ReaderWrapper.java:650)\n\tat loci.formats.ChannelFiller.setId(ChannelFiller.java:223)\n\tat loci.formats.ReaderWrapper.setId(ReaderWrapper.java:650)\n\tat loci.formats.ChannelSeparator.setId(ChannelSeparator.java:293)\n\tat loci.formats.ReaderWrapper.setId(ReaderWrapper.java:650)\n\tat loci.formats.Memoizer.setId(Memoizer.java:690)\n\tat loci.formats.ReaderWrapper.setId(ReaderWrapper.java:650)\n\tat ome.services.blitz.repo.CheckedPath.bfSetId(CheckedPath.java:412)\n\tat ome.services.blitz.repo.ManagedImportRequestI.open(ManagedImportRequestI.java:763)\n\tat ome.services.blitz.repo.ManagedImportRequestI.init(ManagedImportRequestI.java:245)\n\tat omero.cmd.HandleI.steps(HandleI.java:438)\n\tat omero.cmd.HandleI$RunSteps.innerWork(HandleI.java:509)\n\tat omero.cmd.HandleI$2.doWork(HandleI.java:383)\n\tat omero.cmd.HandleI$2.doWork(HandleI.java:380)\n\tat jdk.internal.reflect.GeneratedMethodAccessor298.invoke(Unknown Source)\n\tat java.base/jdk.internal.reflect.DelegatingMethodAccessorImpl.invoke(DelegatingMethodAccessorImpl.java:43)\n\tat java.base/java.lang.reflect.Method.invoke(Method.java:566)\n\tat org.springframework.aop.support.AopUtils.invokeJoinpointUsingReflection(AopUtils.java:333)\n\tat org.springframework.aop.framework.ReflectiveMethodInvocation.invokeJoinpoint(ReflectiveMethodInvocation.java:190)\n\tat org.springframework.aop.framework.ReflectiveMethodInvocation.proceed(ReflectiveMethodInvocation.java:157)\n\tat ome.services.util.Executor$Impl$Interceptor.invoke(Executor.java:568)\n\tat org.springframework.aop.framework.ReflectiveMethodInvocation.proceed(ReflectiveMethodInvocation.java:179)\n\tat ome.security.basic.EventHandler.invoke(EventHandler.java:154)\n\tat org.springframework.aop.framework.ReflectiveMethodInvocation.proceed(ReflectiveMethodInvocation.java:179)\n\tat org.springframework.orm.hibernate3.HibernateInterceptor.invoke(HibernateInterceptor.java:119)\n\tat org.springframework.aop.framework.ReflectiveMethodInvocation.proceed(ReflectiveMethodInvocation.java:179)\n\tat org.springframework.transaction.interceptor.TransactionInterceptor$1.proceedWithInvocation(TransactionInterceptor.java:99)\n\tat org.springframework.transaction.interceptor.TransactionAspectSupport.invokeWithinTransaction(TransactionAspectSupport.java:282)\n\tat org.springframework.transaction.interceptor.TransactionInterceptor.invoke(TransactionInterceptor.java:96)\n\tat org.springframework.aop.framework.ReflectiveMethodInvocation.proceed(ReflectiveMethodInvocation.java:179)\n\tat ome.tools.hibernate.ProxyCleanupFilter$Interceptor.invoke(ProxyCleanupFilter.java:249)\n\tat org.springframework.aop.framework.ReflectiveMethodInvocation.proceed(ReflectiveMethodInvocation.java:179)\n\tat ome.services.util.ServiceHandler.invoke(ServiceHandler.java:121)\n\tat org.springframework.aop.framework.ReflectiveMethodInvocation.proceed(ReflectiveMethodInvocation.java:179)\n\tat org.springframework.aop.framework.JdkDynamicAopProxy.invoke(JdkDynamicAopProxy.java:213)\n\tat com.sun.proxy.$Proxy81.doWork(Unknown Source)\n\tat ome.services.util.Executor$Impl.execute(Executor.java:447)\n\tat omero.cmd.HandleI.run(HandleI.java:379)\n\tat java.base/java.util.concurrent.Executors$RunnableAdapter.call(Executors.java:515)\n\tat ome.services.util.Executor$Impl$1.call(Executor.java:488)\n\tat java.base/java.util.concurrent.FutureTask.run(FutureTask.java:264)\n\tat java.base/java.util.concurrent.ThreadPoolExecutor.runWorker(ThreadPoolExecutor.java:1128)\n\tat java.base/java.util.concurrent.ThreadPoolExecutor$Worker.run(ThreadPoolExecutor.java:628)\n\tat java.base/java.lang.Thread.run(Thread.java:829)\n\n        \n        key = message\n        value = Unknown file format: /omerobin/ManagedRepository/mazo260d_104/2023-06/12/09-10-44.924/C;!Users!mazo260d!AppData!Local!Temp!tmp7vzaxfyq!image.zarr!.zattrs\n    }\n}",
     "output_type": "error",
     "traceback": [
      "\u001b[1;31m---------------------------------------------------------------------------\u001b[0m",
      "\u001b[1;31mException\u001b[0m                                 Traceback (most recent call last)",
      "Cell \u001b[1;32mIn[13], line 1\u001b[0m\n\u001b[1;32m----> 1\u001b[0m create_image_from_tiles(conn, image, tile_shape, axes, dataset_id)\n",
      "Cell \u001b[1;32mIn[12], line 41\u001b[0m, in \u001b[0;36mcreate_image_from_tiles\u001b[1;34m(conn, numpy_image, tile_size, axes, dataset_id)\u001b[0m\n\u001b[0;32m     38\u001b[0m root \u001b[39m=\u001b[39m zarr\u001b[39m.\u001b[39mgroup(store\u001b[39m=\u001b[39mstore)\n\u001b[0;32m     39\u001b[0m write_image(image\u001b[39m=\u001b[39mnumpy_image, group\u001b[39m=\u001b[39mroot, axes\u001b[39m=\u001b[39maxes, storage_options\u001b[39m=\u001b[39m\u001b[39mdict\u001b[39m(chunks\u001b[39m=\u001b[39mtile_size))\n\u001b[1;32m---> 41\u001b[0m rsp \u001b[39m=\u001b[39m full_import(conn\u001b[39m.\u001b[39;49mc, tmpdirname)\n\u001b[0;32m     43\u001b[0m \u001b[39mif\u001b[39;00m rsp:\n\u001b[0;32m     44\u001b[0m     links \u001b[39m=\u001b[39m []\n",
      "Cell \u001b[1;32mIn[12], line 159\u001b[0m, in \u001b[0;36mfull_import\u001b[1;34m(client, fs_path, wait)\u001b[0m\n\u001b[0;32m    157\u001b[0m proc \u001b[39m=\u001b[39m mrepo\u001b[39m.\u001b[39mimportFileset(fileset, settings)\n\u001b[0;32m    158\u001b[0m \u001b[39mtry\u001b[39;00m:\n\u001b[1;32m--> 159\u001b[0m     \u001b[39mreturn\u001b[39;00m assert_import(client, proc, files, wait)\n\u001b[0;32m    160\u001b[0m \u001b[39mfinally\u001b[39;00m:\n\u001b[0;32m    161\u001b[0m     proc\u001b[39m.\u001b[39mclose()\n",
      "Cell \u001b[1;32mIn[12], line 142\u001b[0m, in \u001b[0;36massert_import\u001b[1;34m(client, proc, files, wait)\u001b[0m\n\u001b[0;32m    140\u001b[0m rsp \u001b[39m=\u001b[39m cb\u001b[39m.\u001b[39mgetResponse()\n\u001b[0;32m    141\u001b[0m \u001b[39mif\u001b[39;00m \u001b[39misinstance\u001b[39m(rsp, omero\u001b[39m.\u001b[39mcmd\u001b[39m.\u001b[39mERR):\n\u001b[1;32m--> 142\u001b[0m     \u001b[39mraise\u001b[39;00m \u001b[39mException\u001b[39;00m(rsp)\n\u001b[0;32m    143\u001b[0m \u001b[39massert\u001b[39;00m \u001b[39mlen\u001b[39m(rsp\u001b[39m.\u001b[39mpixels) \u001b[39m>\u001b[39m \u001b[39m0\u001b[39m\n\u001b[0;32m    144\u001b[0m \u001b[39mreturn\u001b[39;00m rsp\n",
      "\u001b[1;31mException\u001b[0m: object #0 (::omero::cmd::ERR)\n{\n    category = ::omero::grid::ImportRequest\n    name = error-on-init\n    parameters = \n    {\n        key = stacktrace\n        value = loci.formats.UnknownFormatException: Unknown file format: /omerobin/ManagedRepository/mazo260d_104/2023-06/12/09-10-44.924/C;!Users!mazo260d!AppData!Local!Temp!tmp7vzaxfyq!image.zarr!.zattrs\n\tat loci.formats.ImageReader.getReader(ImageReader.java:202)\n\tat loci.formats.ImageReader.setId(ImageReader.java:844)\n\tat ome.formats.importer.OMEROWrapper$4.setId(OMEROWrapper.java:167)\n\tat loci.formats.ReaderWrapper.setId(ReaderWrapper.java:650)\n\tat loci.formats.ChannelFiller.setId(ChannelFiller.java:223)\n\tat loci.formats.ReaderWrapper.setId(ReaderWrapper.java:650)\n\tat loci.formats.ChannelSeparator.setId(ChannelSeparator.java:293)\n\tat loci.formats.ReaderWrapper.setId(ReaderWrapper.java:650)\n\tat loci.formats.Memoizer.setId(Memoizer.java:690)\n\tat loci.formats.ReaderWrapper.setId(ReaderWrapper.java:650)\n\tat ome.services.blitz.repo.CheckedPath.bfSetId(CheckedPath.java:412)\n\tat ome.services.blitz.repo.ManagedImportRequestI.open(ManagedImportRequestI.java:763)\n\tat ome.services.blitz.repo.ManagedImportRequestI.init(ManagedImportRequestI.java:245)\n\tat omero.cmd.HandleI.steps(HandleI.java:438)\n\tat omero.cmd.HandleI$RunSteps.innerWork(HandleI.java:509)\n\tat omero.cmd.HandleI$2.doWork(HandleI.java:383)\n\tat omero.cmd.HandleI$2.doWork(HandleI.java:380)\n\tat jdk.internal.reflect.GeneratedMethodAccessor298.invoke(Unknown Source)\n\tat java.base/jdk.internal.reflect.DelegatingMethodAccessorImpl.invoke(DelegatingMethodAccessorImpl.java:43)\n\tat java.base/java.lang.reflect.Method.invoke(Method.java:566)\n\tat org.springframework.aop.support.AopUtils.invokeJoinpointUsingReflection(AopUtils.java:333)\n\tat org.springframework.aop.framework.ReflectiveMethodInvocation.invokeJoinpoint(ReflectiveMethodInvocation.java:190)\n\tat org.springframework.aop.framework.ReflectiveMethodInvocation.proceed(ReflectiveMethodInvocation.java:157)\n\tat ome.services.util.Executor$Impl$Interceptor.invoke(Executor.java:568)\n\tat org.springframework.aop.framework.ReflectiveMethodInvocation.proceed(ReflectiveMethodInvocation.java:179)\n\tat ome.security.basic.EventHandler.invoke(EventHandler.java:154)\n\tat org.springframework.aop.framework.ReflectiveMethodInvocation.proceed(ReflectiveMethodInvocation.java:179)\n\tat org.springframework.orm.hibernate3.HibernateInterceptor.invoke(HibernateInterceptor.java:119)\n\tat org.springframework.aop.framework.ReflectiveMethodInvocation.proceed(ReflectiveMethodInvocation.java:179)\n\tat org.springframework.transaction.interceptor.TransactionInterceptor$1.proceedWithInvocation(TransactionInterceptor.java:99)\n\tat org.springframework.transaction.interceptor.TransactionAspectSupport.invokeWithinTransaction(TransactionAspectSupport.java:282)\n\tat org.springframework.transaction.interceptor.TransactionInterceptor.invoke(TransactionInterceptor.java:96)\n\tat org.springframework.aop.framework.ReflectiveMethodInvocation.proceed(ReflectiveMethodInvocation.java:179)\n\tat ome.tools.hibernate.ProxyCleanupFilter$Interceptor.invoke(ProxyCleanupFilter.java:249)\n\tat org.springframework.aop.framework.ReflectiveMethodInvocation.proceed(ReflectiveMethodInvocation.java:179)\n\tat ome.services.util.ServiceHandler.invoke(ServiceHandler.java:121)\n\tat org.springframework.aop.framework.ReflectiveMethodInvocation.proceed(ReflectiveMethodInvocation.java:179)\n\tat org.springframework.aop.framework.JdkDynamicAopProxy.invoke(JdkDynamicAopProxy.java:213)\n\tat com.sun.proxy.$Proxy81.doWork(Unknown Source)\n\tat ome.services.util.Executor$Impl.execute(Executor.java:447)\n\tat omero.cmd.HandleI.run(HandleI.java:379)\n\tat java.base/java.util.concurrent.Executors$RunnableAdapter.call(Executors.java:515)\n\tat ome.services.util.Executor$Impl$1.call(Executor.java:488)\n\tat java.base/java.util.concurrent.FutureTask.run(FutureTask.java:264)\n\tat java.base/java.util.concurrent.ThreadPoolExecutor.runWorker(ThreadPoolExecutor.java:1128)\n\tat java.base/java.util.concurrent.ThreadPoolExecutor$Worker.run(ThreadPoolExecutor.java:628)\n\tat java.base/java.lang.Thread.run(Thread.java:829)\n\n        \n        key = message\n        value = Unknown file format: /omerobin/ManagedRepository/mazo260d_104/2023-06/12/09-10-44.924/C;!Users!mazo260d!AppData!Local!Temp!tmp7vzaxfyq!image.zarr!.zattrs\n    }\n}"
     ]
    }
   ],
   "source": [
    "create_image_from_tiles(conn, image, tile_shape, axes, dataset_id)"
   ]
  },
  {
   "cell_type": "code",
   "execution_count": 3,
   "metadata": {},
   "outputs": [
    {
     "name": "stderr",
     "output_type": "stream",
     "text": [
      "usage: ipykernel_launcher.py [-h] dataset_id\n",
      "ipykernel_launcher.py: error: the following arguments are required: dataset_id\n"
     ]
    },
    {
     "ename": "SystemExit",
     "evalue": "2",
     "output_type": "error",
     "traceback": [
      "An exception has occurred, use %tb to see the full traceback.\n",
      "\u001b[1;31mSystemExit\u001b[0m\u001b[1;31m:\u001b[0m 2\n"
     ]
    },
    {
     "name": "stderr",
     "output_type": "stream",
     "text": [
      "c:\\Users\\mazo260d\\mambaforge\\envs\\omero-guide-python\\lib\\site-packages\\IPython\\core\\interactiveshell.py:3516: UserWarning: To exit: use 'exit', 'quit', or Ctrl-D.\n",
      "  warn(\"To exit: use 'exit', 'quit', or Ctrl-D.\", stacklevel=1)\n"
     ]
    }
   ],
   "source": [
    "# def main(argv):\n",
    "#     parser = argparse.ArgumentParser()\n",
    "#     parser.add_argument('dataset_id', type=int, help=\"Dataset ID to add Image\")\n",
    "#     args = parser.parse_args(argv)\n",
    "\n",
    "#     with cli_login() as cli:\n",
    "#         conn = BlitzGateway(client_obj=cli._client)\n",
    "#         dataset_id = args.dataset_id\n",
    "\n",
    "#         shape = (2, 1024, 1024)\n",
    "#         numpy_image = create_data(shape)\n",
    "#         tile_size = (1, 256, 256)\n",
    "#         axes = \"cyx\"\n",
    "#         create_image_from_tiles(conn, numpy_image, tile_size, axes, dataset_id)\n",
    "\n",
    "\n",
    "# if __name__ == '__main__':\n",
    "#     main(sys.argv[1:])"
   ]
  }
 ],
 "metadata": {
  "kernelspec": {
   "display_name": "omero-guide-python",
   "language": "python",
   "name": "python3"
  },
  "language_info": {
   "codemirror_mode": {
    "name": "ipython",
    "version": 3
   },
   "file_extension": ".py",
   "mimetype": "text/x-python",
   "name": "python",
   "nbconvert_exporter": "python",
   "pygments_lexer": "ipython3",
   "version": "3.9.15"
  },
  "orig_nbformat": 4
 },
 "nbformat": 4,
 "nbformat_minor": 2
}
